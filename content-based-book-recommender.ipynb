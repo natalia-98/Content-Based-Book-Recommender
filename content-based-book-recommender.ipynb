{
 "cells": [
  {
   "cell_type": "markdown",
   "id": "leading-consciousness",
   "metadata": {
    "_cell_guid": "b1076dfc-b9ad-4769-8c92-a6c4dae69d19",
    "_uuid": "8f2839f25d086af736a60e9eeb907d3b93b6e0e5",
    "papermill": {
     "duration": 0.042554,
     "end_time": "2021-07-12T05:40:51.397921",
     "exception": false,
     "start_time": "2021-07-12T05:40:51.355367",
     "status": "completed"
    },
    "tags": []
   },
   "source": [
    "<h1 style=\"font-family:times new roman;\"> <center>Content Based Book Recommender</center> </h1>\n",
    "\n",
    "<p><center style=\"color:#159364; font-family:times new roman; font-size:16px\">Simple book recommender system using Python. </center></p>\n",
    "\n",
    "***"
   ]
  },
  {
   "cell_type": "markdown",
   "id": "dirty-convergence",
   "metadata": {
    "papermill": {
     "duration": 0.041053,
     "end_time": "2021-07-12T05:40:51.480408",
     "exception": false,
     "start_time": "2021-07-12T05:40:51.439355",
     "status": "completed"
    },
    "tags": []
   },
   "source": [
    "<h2 style='font-family:times new roman'>Introduction</h2>"
   ]
  },
  {
   "cell_type": "markdown",
   "id": "unavailable-client",
   "metadata": {
    "papermill": {
     "duration": 0.048634,
     "end_time": "2021-07-12T05:40:51.577800",
     "exception": false,
     "start_time": "2021-07-12T05:40:51.529166",
     "status": "completed"
    },
    "tags": []
   },
   "source": [
    "<p style='font-size:16px;font-family:times new roman'>The ways in which we can access content is growing at a rapid pace. With all of the various streaming platforms available to us, it can be argued that what sets a streaming service over another is its ability to recommend content to viewers and keep them on their websites or apps longer. Content based recommenders suggest similar titles for viewers based on their history. Generally it makes sense to recommend a tv show or book to someone because it is similar to something they already like. Using a dataset containing thousands of rows of data about books such as title, author, user rating, and user demographics, a simple recommendation system will be created.</p>"
   ]
  },
  {
   "cell_type": "markdown",
   "id": "mysterious-robinson",
   "metadata": {
    "papermill": {
     "duration": 0.040389,
     "end_time": "2021-07-12T05:40:51.661604",
     "exception": false,
     "start_time": "2021-07-12T05:40:51.621215",
     "status": "completed"
    },
    "tags": []
   },
   "source": [
    "<h2 style='font-family:times new roman'>Data</h2>"
   ]
  },
  {
   "cell_type": "markdown",
   "id": "alien-sugar",
   "metadata": {
    "papermill": {
     "duration": 0.040446,
     "end_time": "2021-07-12T05:40:51.743293",
     "exception": false,
     "start_time": "2021-07-12T05:40:51.702847",
     "status": "completed"
    },
    "tags": []
   },
   "source": [
    "<p style='font-size:16px;font-family:times new roman'>The datasets in this analysis are publicly available through Kaggle [1]. The Goodreads dataset is comprised of information on books gathered with the use of Goodread’s Api. The user reviews dataset contains ratings and reviews about 270k books from 278,858 anonymized users.</p>"
   ]
  },
  {
   "cell_type": "markdown",
   "id": "disciplinary-level",
   "metadata": {
    "papermill": {
     "duration": 0.040796,
     "end_time": "2021-07-12T05:40:51.825902",
     "exception": false,
     "start_time": "2021-07-12T05:40:51.785106",
     "status": "completed"
    },
    "tags": []
   },
   "source": [
    "<h2 style='font-family:times new roman'>Setting Up Enviroment</h2>"
   ]
  },
  {
   "cell_type": "code",
   "execution_count": 1,
   "id": "dependent-mailman",
   "metadata": {
    "execution": {
     "iopub.execute_input": "2021-07-12T05:40:51.911383Z",
     "iopub.status.busy": "2021-07-12T05:40:51.910239Z",
     "iopub.status.idle": "2021-07-12T05:40:52.979447Z",
     "shell.execute_reply": "2021-07-12T05:40:52.978332Z",
     "shell.execute_reply.started": "2021-07-12T05:35:16.269280Z"
    },
    "papermill": {
     "duration": 1.113075,
     "end_time": "2021-07-12T05:40:52.979659",
     "exception": false,
     "start_time": "2021-07-12T05:40:51.866584",
     "status": "completed"
    },
    "tags": []
   },
   "outputs": [],
   "source": [
    "import pandas as pd\n",
    "from matplotlib import pyplot as plt\n",
    "import numpy as np\n",
    "from sklearn.feature_extraction.text import TfidfVectorizer\n",
    "from sklearn.metrics.pairwise import linear_kernel\n",
    "import warnings  \n",
    "warnings.filterwarnings('ignore')"
   ]
  },
  {
   "cell_type": "markdown",
   "id": "brief-africa",
   "metadata": {
    "papermill": {
     "duration": 0.040823,
     "end_time": "2021-07-12T05:40:53.061949",
     "exception": false,
     "start_time": "2021-07-12T05:40:53.021126",
     "status": "completed"
    },
    "tags": []
   },
   "source": [
    "<p style='font-size:16px;font-family:times new roman'>Import dataset and create a pandas dataframe.</p>"
   ]
  },
  {
   "cell_type": "code",
   "execution_count": 2,
   "id": "heated-schedule",
   "metadata": {
    "execution": {
     "iopub.execute_input": "2021-07-12T05:40:53.153755Z",
     "iopub.status.busy": "2021-07-12T05:40:53.153055Z",
     "iopub.status.idle": "2021-07-12T05:41:06.244367Z",
     "shell.execute_reply": "2021-07-12T05:41:06.243607Z",
     "shell.execute_reply.started": "2021-07-12T05:35:16.276578Z"
    },
    "papermill": {
     "duration": 13.140306,
     "end_time": "2021-07-12T05:41:06.244565",
     "exception": false,
     "start_time": "2021-07-12T05:40:53.104259",
     "status": "completed"
    },
    "tags": []
   },
   "outputs": [],
   "source": [
    "books_df = pd.read_csv('../input/bookcrossing-dataset/Books Data with Category Language and Summary/Preprocessed_data.csv')"
   ]
  },
  {
   "cell_type": "markdown",
   "id": "hybrid-society",
   "metadata": {
    "papermill": {
     "duration": 0.040986,
     "end_time": "2021-07-12T05:41:06.327455",
     "exception": false,
     "start_time": "2021-07-12T05:41:06.286469",
     "status": "completed"
    },
    "tags": []
   },
   "source": [
    "<h2 style='font-family:times new roman'>Cleaning Data</h2>"
   ]
  },
  {
   "cell_type": "markdown",
   "id": "steady-auditor",
   "metadata": {
    "papermill": {
     "duration": 0.041165,
     "end_time": "2021-07-12T05:41:06.409713",
     "exception": false,
     "start_time": "2021-07-12T05:41:06.368548",
     "status": "completed"
    },
    "tags": []
   },
   "source": [
    "<p style='font-size:16px;font-family:times new roman'>Preview dataset.</p>"
   ]
  },
  {
   "cell_type": "code",
   "execution_count": 3,
   "id": "binary-subscription",
   "metadata": {
    "execution": {
     "iopub.execute_input": "2021-07-12T05:41:06.503808Z",
     "iopub.status.busy": "2021-07-12T05:41:06.502544Z",
     "iopub.status.idle": "2021-07-12T05:41:07.989144Z",
     "shell.execute_reply": "2021-07-12T05:41:07.989654Z",
     "shell.execute_reply.started": "2021-07-12T05:35:23.384155Z"
    },
    "papermill": {
     "duration": 1.539391,
     "end_time": "2021-07-12T05:41:07.989826",
     "exception": false,
     "start_time": "2021-07-12T05:41:06.450435",
     "status": "completed"
    },
    "tags": []
   },
   "outputs": [
    {
     "name": "stdout",
     "output_type": "stream",
     "text": [
      "<class 'pandas.core.frame.DataFrame'>\n",
      "RangeIndex: 1031175 entries, 0 to 1031174\n",
      "Data columns (total 19 columns):\n",
      " #   Column               Non-Null Count    Dtype  \n",
      "---  ------               --------------    -----  \n",
      " 0   Unnamed: 0           1031175 non-null  int64  \n",
      " 1   user_id              1031175 non-null  int64  \n",
      " 2   location             1031175 non-null  object \n",
      " 3   age                  1031175 non-null  float64\n",
      " 4   isbn                 1031175 non-null  object \n",
      " 5   rating               1031175 non-null  int64  \n",
      " 6   book_title           1031175 non-null  object \n",
      " 7   book_author          1031175 non-null  object \n",
      " 8   year_of_publication  1031175 non-null  float64\n",
      " 9   publisher            1031175 non-null  object \n",
      " 10  img_s                1031175 non-null  object \n",
      " 11  img_m                1031175 non-null  object \n",
      " 12  img_l                1031175 non-null  object \n",
      " 13  Summary              1031175 non-null  object \n",
      " 14  Language             1031175 non-null  object \n",
      " 15  Category             1031175 non-null  object \n",
      " 16  city                 1017072 non-null  object \n",
      " 17  state                1008377 non-null  object \n",
      " 18  country              995801 non-null   object \n",
      "dtypes: float64(2), int64(3), object(14)\n",
      "memory usage: 149.5+ MB\n"
     ]
    }
   ],
   "source": [
    "books_df.head(5)\n",
    "books_df.info()"
   ]
  },
  {
   "cell_type": "markdown",
   "id": "jewish-hungary",
   "metadata": {
    "papermill": {
     "duration": 0.041761,
     "end_time": "2021-07-12T05:41:08.073204",
     "exception": false,
     "start_time": "2021-07-12T05:41:08.031443",
     "status": "completed"
    },
    "tags": []
   },
   "source": [
    "<p style='font-size:16px;font-family:times new roman'>Subsetting dataframe for books in english.</p>"
   ]
  },
  {
   "cell_type": "code",
   "execution_count": 4,
   "id": "gentle-consultation",
   "metadata": {
    "execution": {
     "iopub.execute_input": "2021-07-12T05:41:08.220795Z",
     "iopub.status.busy": "2021-07-12T05:41:08.175975Z",
     "iopub.status.idle": "2021-07-12T05:41:08.511681Z",
     "shell.execute_reply": "2021-07-12T05:41:08.510861Z",
     "shell.execute_reply.started": "2021-07-12T05:35:23.975106Z"
    },
    "papermill": {
     "duration": 0.397097,
     "end_time": "2021-07-12T05:41:08.511830",
     "exception": false,
     "start_time": "2021-07-12T05:41:08.114733",
     "status": "completed"
    },
    "tags": []
   },
   "outputs": [],
   "source": [
    "books_df['Language'].unique()\n",
    "books_eng = books_df[books_df['Language'] == 'en']"
   ]
  },
  {
   "cell_type": "markdown",
   "id": "spanish-point",
   "metadata": {
    "papermill": {
     "duration": 0.041151,
     "end_time": "2021-07-12T05:41:08.595073",
     "exception": false,
     "start_time": "2021-07-12T05:41:08.553922",
     "status": "completed"
    },
    "tags": []
   },
   "source": [
    "<p style='font-size:16px;font-family:times new roman'>Checking for nulls.</p>"
   ]
  },
  {
   "cell_type": "code",
   "execution_count": 5,
   "id": "other-weapon",
   "metadata": {
    "execution": {
     "iopub.execute_input": "2021-07-12T05:41:08.684600Z",
     "iopub.status.busy": "2021-07-12T05:41:08.683866Z",
     "iopub.status.idle": "2021-07-12T05:41:09.568689Z",
     "shell.execute_reply": "2021-07-12T05:41:09.568091Z",
     "shell.execute_reply.started": "2021-07-12T05:35:24.227968Z"
    },
    "papermill": {
     "duration": 0.932177,
     "end_time": "2021-07-12T05:41:09.568839",
     "exception": false,
     "start_time": "2021-07-12T05:41:08.636662",
     "status": "completed"
    },
    "tags": []
   },
   "outputs": [
    {
     "data": {
      "text/plain": [
       "Unnamed: 0                 0\n",
       "user_id                    0\n",
       "location                   0\n",
       "age                        0\n",
       "isbn                       0\n",
       "rating                     0\n",
       "book_title                 0\n",
       "book_author                0\n",
       "year_of_publication        0\n",
       "publisher                  0\n",
       "img_s                      0\n",
       "img_m                      0\n",
       "img_l                      0\n",
       "Summary                    0\n",
       "Language                   0\n",
       "Category                   0\n",
       "city                    7765\n",
       "state                  12121\n",
       "country                21044\n",
       "dtype: int64"
      ]
     },
     "execution_count": 5,
     "metadata": {},
     "output_type": "execute_result"
    }
   ],
   "source": [
    "books_eng.isnull().sum()"
   ]
  },
  {
   "cell_type": "markdown",
   "id": "continuing-oakland",
   "metadata": {
    "papermill": {
     "duration": 0.04101,
     "end_time": "2021-07-12T05:41:09.651469",
     "exception": false,
     "start_time": "2021-07-12T05:41:09.610459",
     "status": "completed"
    },
    "tags": []
   },
   "source": [
    "<p style='font-size:16px;font-family:times new roman'>Changing all column names to lowercase.</p>"
   ]
  },
  {
   "cell_type": "code",
   "execution_count": 6,
   "id": "integral-hawaii",
   "metadata": {
    "execution": {
     "iopub.execute_input": "2021-07-12T05:41:09.741335Z",
     "iopub.status.busy": "2021-07-12T05:41:09.740347Z",
     "iopub.status.idle": "2021-07-12T05:41:09.743913Z",
     "shell.execute_reply": "2021-07-12T05:41:09.743351Z",
     "shell.execute_reply.started": "2021-07-12T05:35:24.594518Z"
    },
    "papermill": {
     "duration": 0.050484,
     "end_time": "2021-07-12T05:41:09.744061",
     "exception": false,
     "start_time": "2021-07-12T05:41:09.693577",
     "status": "completed"
    },
    "tags": []
   },
   "outputs": [],
   "source": [
    "books_eng.columns = books_eng.columns.str.lower()"
   ]
  },
  {
   "cell_type": "markdown",
   "id": "legendary-appliance",
   "metadata": {
    "papermill": {
     "duration": 0.043351,
     "end_time": "2021-07-12T05:41:09.828764",
     "exception": false,
     "start_time": "2021-07-12T05:41:09.785413",
     "status": "completed"
    },
    "tags": []
   },
   "source": [
    "<p style='font-size:16px;font-family:times new roman'>Dropping columns that are not needed for the analysis.</p>"
   ]
  },
  {
   "cell_type": "code",
   "execution_count": 7,
   "id": "vertical-mother",
   "metadata": {
    "execution": {
     "iopub.execute_input": "2021-07-12T05:41:09.985903Z",
     "iopub.status.busy": "2021-07-12T05:41:09.951977Z",
     "iopub.status.idle": "2021-07-12T05:41:10.024264Z",
     "shell.execute_reply": "2021-07-12T05:41:10.023667Z",
     "shell.execute_reply.started": "2021-07-12T05:35:24.601095Z"
    },
    "papermill": {
     "duration": 0.153842,
     "end_time": "2021-07-12T05:41:10.024412",
     "exception": false,
     "start_time": "2021-07-12T05:41:09.870570",
     "status": "completed"
    },
    "tags": []
   },
   "outputs": [],
   "source": [
    "books_eng = books_eng.drop(columns =['unnamed: 0','img_s','img_m','img_l','language'])"
   ]
  },
  {
   "cell_type": "markdown",
   "id": "forced-buyer",
   "metadata": {
    "papermill": {
     "duration": 0.042034,
     "end_time": "2021-07-12T05:41:10.108034",
     "exception": false,
     "start_time": "2021-07-12T05:41:10.066000",
     "status": "completed"
    },
    "tags": []
   },
   "source": [
    "<p style='font-size:16px;font-family:times new roman'>Changing data types.</p>"
   ]
  },
  {
   "cell_type": "code",
   "execution_count": 8,
   "id": "accomplished-driver",
   "metadata": {
    "execution": {
     "iopub.execute_input": "2021-07-12T05:41:10.197123Z",
     "iopub.status.busy": "2021-07-12T05:41:10.196387Z",
     "iopub.status.idle": "2021-07-12T05:41:10.208184Z",
     "shell.execute_reply": "2021-07-12T05:41:10.207606Z",
     "shell.execute_reply.started": "2021-07-12T05:35:24.701400Z"
    },
    "papermill": {
     "duration": 0.05843,
     "end_time": "2021-07-12T05:41:10.208326",
     "exception": false,
     "start_time": "2021-07-12T05:41:10.149896",
     "status": "completed"
    },
    "tags": []
   },
   "outputs": [],
   "source": [
    "books_eng['year_of_publication']=books_eng['year_of_publication'].astype(int)\n",
    "books_eng['age'] = books_eng['age'].astype(int)"
   ]
  },
  {
   "cell_type": "markdown",
   "id": "supreme-romantic",
   "metadata": {
    "papermill": {
     "duration": 0.042021,
     "end_time": "2021-07-12T05:41:10.292237",
     "exception": false,
     "start_time": "2021-07-12T05:41:10.250216",
     "status": "completed"
    },
    "tags": []
   },
   "source": [
    "<h2 style='font-family:times new roman'> Exploratory Analysis</h2>"
   ]
  },
  {
   "cell_type": "markdown",
   "id": "african-updating",
   "metadata": {
    "papermill": {
     "duration": 0.041372,
     "end_time": "2021-07-12T05:41:10.375496",
     "exception": false,
     "start_time": "2021-07-12T05:41:10.334124",
     "status": "completed"
    },
    "tags": []
   },
   "source": [
    "<p style = 'font-size:16px;font-family:times new roman'>What are the top books in this dataset? First, the dataset is aggregated to find the number of ratings each book receives as well as their average rating. It is important to distinguish between the books with the highest number of ratings and the books with the highest ratings. The graph shows that <i> Wild Animus </i> has received the most ratings from users, yet it is rated extremely low with an average user rating of 1.01.<p>"
   ]
  },
  {
   "cell_type": "code",
   "execution_count": 9,
   "id": "british-message",
   "metadata": {
    "execution": {
     "iopub.execute_input": "2021-07-12T05:41:10.465734Z",
     "iopub.status.busy": "2021-07-12T05:41:10.465000Z",
     "iopub.status.idle": "2021-07-12T05:41:10.920339Z",
     "shell.execute_reply": "2021-07-12T05:41:10.919720Z",
     "shell.execute_reply.started": "2021-07-12T05:35:24.715170Z"
    },
    "papermill": {
     "duration": 0.503085,
     "end_time": "2021-07-12T05:41:10.920525",
     "exception": false,
     "start_time": "2021-07-12T05:41:10.417440",
     "status": "completed"
    },
    "tags": []
   },
   "outputs": [],
   "source": [
    "# # Find the number of ratings for each book.\n",
    "num_ratings = books_eng.groupby('book_title', as_index=False)['rating'].count()\n",
    "\n",
    "num_ratings = num_ratings.rename(columns={'rating': 'num_of_ratings'})\n",
    "\n",
    "most_ratings = num_ratings.sort_values(\n",
    "    by='num_of_ratings', ascending=False).head(10)"
   ]
  },
  {
   "cell_type": "code",
   "execution_count": 10,
   "id": "tired-decrease",
   "metadata": {
    "_kg_hide-input": true,
    "execution": {
     "iopub.execute_input": "2021-07-12T05:41:11.011816Z",
     "iopub.status.busy": "2021-07-12T05:41:11.010986Z",
     "iopub.status.idle": "2021-07-12T05:41:11.013687Z",
     "shell.execute_reply": "2021-07-12T05:41:11.014217Z",
     "shell.execute_reply.started": "2021-07-12T05:35:25.083433Z"
    },
    "papermill": {
     "duration": 0.051177,
     "end_time": "2021-07-12T05:41:11.014399",
     "exception": false,
     "start_time": "2021-07-12T05:41:10.963222",
     "status": "completed"
    },
    "tags": []
   },
   "outputs": [],
   "source": [
    "# # Color palette.\n",
    "my_color_pal = [\n",
    "    'MediumSeaGreen',\n",
    "    'LightSeaGreen',\n",
    "    'MediumAquaMarine',\n",
    "    'LightSkyBlue',\n",
    "    'LightSteelblue',\n",
    "    'PowderBlue',\n",
    "    'Plum',\n",
    "    'LightSalmon',\n",
    "    'LightPink',\n",
    "    'Moccasin',\n",
    "]"
   ]
  },
  {
   "cell_type": "code",
   "execution_count": 11,
   "id": "compact-payment",
   "metadata": {
    "execution": {
     "iopub.execute_input": "2021-07-12T05:41:11.119770Z",
     "iopub.status.busy": "2021-07-12T05:41:11.119104Z",
     "iopub.status.idle": "2021-07-12T05:41:11.334837Z",
     "shell.execute_reply": "2021-07-12T05:41:11.334168Z",
     "shell.execute_reply.started": "2021-07-12T05:35:25.088623Z"
    },
    "papermill": {
     "duration": 0.278447,
     "end_time": "2021-07-12T05:41:11.334982",
     "exception": false,
     "start_time": "2021-07-12T05:41:11.056535",
     "status": "completed"
    },
    "tags": []
   },
   "outputs": [
    {
     "data": {
      "text/plain": [
       "Text(0.5, 0, 'Number of Ratings')"
      ]
     },
     "execution_count": 11,
     "metadata": {},
     "output_type": "execute_result"
    },
    {
     "data": {
      "image/png": "[encoded data removed]",
      "text/plain": [
       "<Figure size 432x288 with 1 Axes>"
      ]
     },
     "metadata": {
      "needs_background": "light"
     },
     "output_type": "display_data"
    }
   ],
   "source": [
    "y = most_ratings['book_title']\n",
    "width = most_ratings['num_of_ratings']\n",
    "most_viz = plt.barh(y, width, color=my_color_pal, edgecolor='silver')\n",
    "plt.title('Books With the Highest Number of Ratings',\n",
    "          fontsize=24, color='MediumSeaGreen')\n",
    "plt.xlabel('Number of Ratings', fontsize=16, color='MediumSeaGreen')"
   ]
  },
  {
   "cell_type": "markdown",
   "id": "bizarre-surveillance",
   "metadata": {
    "papermill": {
     "duration": 0.043203,
     "end_time": "2021-07-12T05:41:11.432500",
     "exception": false,
     "start_time": "2021-07-12T05:41:11.389297",
     "status": "completed"
    },
    "tags": []
   },
   "source": [
    "<p style='font-size:16px;font-family:times new roman'>In this dataset, the books with the largest number of ratings are not the books with the highest ratings. The highest rated book, Donna Kooler’s <i>555 Christmas Cross-Stitch Designs</i>, only has two ratings, so deeming it the top book would be inaccurate.</p>"
   ]
  },
  {
   "cell_type": "code",
   "execution_count": 12,
   "id": "nervous-reputation",
   "metadata": {
    "execution": {
     "iopub.execute_input": "2021-07-12T05:41:11.527449Z",
     "iopub.status.busy": "2021-07-12T05:41:11.526787Z",
     "iopub.status.idle": "2021-07-12T05:41:11.986153Z",
     "shell.execute_reply": "2021-07-12T05:41:11.986672Z",
     "shell.execute_reply.started": "2021-07-12T05:35:25.287755Z"
    },
    "papermill": {
     "duration": 0.511107,
     "end_time": "2021-07-12T05:41:11.986844",
     "exception": false,
     "start_time": "2021-07-12T05:41:11.475737",
     "status": "completed"
    },
    "tags": []
   },
   "outputs": [
    {
     "data": {
      "text/html": [
       "<div>\n",
       "<style scoped>\n",
       "    .dataframe tbody tr th:only-of-type {\n",
       "        vertical-align: middle;\n",
       "    }\n",
       "\n",
       "    .dataframe tbody tr th {\n",
       "        vertical-align: top;\n",
       "    }\n",
       "\n",
       "    .dataframe thead th {\n",
       "        text-align: right;\n",
       "    }\n",
       "</style>\n",
       "<table border=\"1\" class=\"dataframe\">\n",
       "  <thead>\n",
       "    <tr style=\"text-align: right;\">\n",
       "      <th></th>\n",
       "      <th>book_title</th>\n",
       "      <th>avg_rating</th>\n",
       "    </tr>\n",
       "  </thead>\n",
       "  <tbody>\n",
       "    <tr>\n",
       "      <th>27444</th>\n",
       "      <td>Donna Kooler's 555 Christmas Cross-Stitch Designs</td>\n",
       "      <td>10.0</td>\n",
       "    </tr>\n",
       "    <tr>\n",
       "      <th>28055</th>\n",
       "      <td>Drawing for the Artistically Undiscovered</td>\n",
       "      <td>10.0</td>\n",
       "    </tr>\n",
       "    <tr>\n",
       "      <th>91272</th>\n",
       "      <td>The Book of Job</td>\n",
       "      <td>10.0</td>\n",
       "    </tr>\n",
       "  </tbody>\n",
       "</table>\n",
       "</div>"
      ],
      "text/plain": [
       "                                              book_title  avg_rating\n",
       "27444  Donna Kooler's 555 Christmas Cross-Stitch Designs        10.0\n",
       "28055          Drawing for the Artistically Undiscovered        10.0\n",
       "91272                                    The Book of Job        10.0"
      ]
     },
     "execution_count": 12,
     "metadata": {},
     "output_type": "execute_result"
    }
   ],
   "source": [
    "avg_ratings = books_eng.groupby('book_title', as_index=False)['rating'].mean()\n",
    "\n",
    "avg_ratings = avg_ratings.rename(columns={'rating': 'avg_rating'})\n",
    "\n",
    "avg_ratings.sort_values(by='avg_rating', ascending=False).head(3)"
   ]
  },
  {
   "cell_type": "markdown",
   "id": "alleged-installation",
   "metadata": {
    "papermill": {
     "duration": 0.045052,
     "end_time": "2021-07-12T05:41:12.077089",
     "exception": false,
     "start_time": "2021-07-12T05:41:12.032037",
     "status": "completed"
    },
    "tags": []
   },
   "source": [
    "<p style='font-size:16px;font-family:times new roman'>When the data frame is sorted by the number of ratings from highest to lowest, the top twenty books have 470 or more ratings. To find the top books, the data frame is subset for the books with 470 or more ratings. This can help determine which books are rated the highest while also having a significant number of ratings.</p>"
   ]
  },
  {
   "cell_type": "code",
   "execution_count": 13,
   "id": "beginning-seventh",
   "metadata": {
    "_kg_hide-output": true,
    "execution": {
     "iopub.execute_input": "2021-07-12T05:41:12.169109Z",
     "iopub.status.busy": "2021-07-12T05:41:12.168451Z",
     "iopub.status.idle": "2021-07-12T05:41:12.340419Z",
     "shell.execute_reply": "2021-07-12T05:41:12.340927Z",
     "shell.execute_reply.started": "2021-07-12T05:35:25.652566Z"
    },
    "papermill": {
     "duration": 0.219548,
     "end_time": "2021-07-12T05:41:12.341100",
     "exception": false,
     "start_time": "2021-07-12T05:41:12.121552",
     "status": "completed"
    },
    "tags": []
   },
   "outputs": [
    {
     "data": {
      "text/plain": [
       "123495    2502\n",
       "94208      886\n",
       "103805     828\n",
       "15243      815\n",
       "108227     768\n",
       "26855      732\n",
       "106914     723\n",
       "109970     654\n",
       "3063       652\n",
       "82403      618\n",
       "110452     615\n",
       "40730      571\n",
       "4078       542\n",
       "109856     542\n",
       "115441     531\n",
       "37710      526\n",
       "47555      506\n",
       "99243      506\n",
       "92900      480\n",
       "38580      470\n",
       "Name: num_of_ratings, dtype: int64"
      ]
     },
     "execution_count": 13,
     "metadata": {},
     "output_type": "execute_result"
    }
   ],
   "source": [
    "ratings = num_ratings.merge(avg_ratings, how='inner', on='book_title')\n",
    "ratings['num_of_ratings'].sort_values(ascending=False).head(20)"
   ]
  },
  {
   "cell_type": "code",
   "execution_count": 14,
   "id": "equipped-arlington",
   "metadata": {
    "execution": {
     "iopub.execute_input": "2021-07-12T05:41:12.433291Z",
     "iopub.status.busy": "2021-07-12T05:41:12.432628Z",
     "iopub.status.idle": "2021-07-12T05:41:12.456909Z",
     "shell.execute_reply": "2021-07-12T05:41:12.456350Z",
     "shell.execute_reply.started": "2021-07-12T05:35:25.818547Z"
    },
    "papermill": {
     "duration": 0.071361,
     "end_time": "2021-07-12T05:41:12.457057",
     "exception": false,
     "start_time": "2021-07-12T05:41:12.385696",
     "status": "completed"
    },
    "tags": []
   },
   "outputs": [],
   "source": [
    "ratings_over_470 = ratings[ratings['num_of_ratings'] >= 470]\n",
    "\n",
    "top_books = ratings_over_470.sort_values(\n",
    "    by='avg_rating', ascending=False).head(10)"
   ]
  },
  {
   "cell_type": "code",
   "execution_count": 15,
   "id": "veterinary-sister",
   "metadata": {
    "_kg_hide-input": true,
    "execution": {
     "iopub.execute_input": "2021-07-12T05:41:12.554753Z",
     "iopub.status.busy": "2021-07-12T05:41:12.554100Z",
     "iopub.status.idle": "2021-07-12T05:41:12.555883Z",
     "shell.execute_reply": "2021-07-12T05:41:12.556360Z",
     "shell.execute_reply.started": "2021-07-12T05:35:25.828629Z"
    },
    "papermill": {
     "duration": 0.052974,
     "end_time": "2021-07-12T05:41:12.556548",
     "exception": false,
     "start_time": "2021-07-12T05:41:12.503574",
     "status": "completed"
    },
    "tags": []
   },
   "outputs": [],
   "source": [
    "# # Shortening titles.\n",
    "top_books.iloc[0, 0] = \"Harry Potter and the Sorcerer's Stone\"\n",
    "top_books.iloc[3, 0] = 'The Red Tent'\n",
    "top_books.iloc[8, 0] = 'The Nanny Diaries'"
   ]
  },
  {
   "cell_type": "markdown",
   "id": "equipped-constitutional",
   "metadata": {
    "papermill": {
     "duration": 0.043737,
     "end_time": "2021-07-12T05:41:12.644445",
     "exception": false,
     "start_time": "2021-07-12T05:41:12.600708",
     "status": "completed"
    },
    "tags": []
   },
   "source": [
    "<p style='font-size:16px;font-family:times new roman'>The scatter plot shows that <i>Harry Potter and the Sorcerer’s Stone</i> has the highest average rating of 4.9 with approximately 500 users leaving a rating. While <i>The Da Vinci Code </i> received 886 ratings and has an average rating of 4.6.</p>"
   ]
  },
  {
   "cell_type": "code",
   "execution_count": 16,
   "id": "political-premises",
   "metadata": {
    "execution": {
     "iopub.execute_input": "2021-07-12T05:41:12.735743Z",
     "iopub.status.busy": "2021-07-12T05:41:12.735027Z",
     "iopub.status.idle": "2021-07-12T05:41:12.966726Z",
     "shell.execute_reply": "2021-07-12T05:41:12.966183Z",
     "shell.execute_reply.started": "2021-07-12T05:40:16.159411Z"
    },
    "papermill": {
     "duration": 0.278406,
     "end_time": "2021-07-12T05:41:12.966891",
     "exception": false,
     "start_time": "2021-07-12T05:41:12.688485",
     "status": "completed"
    },
    "tags": []
   },
   "outputs": [
    {
     "data": {
      "image/png": "[encoded data removed]",
      "text/plain": [
       "<Figure size 432x288 with 1 Axes>"
      ]
     },
     "metadata": {
      "needs_background": "light"
     },
     "output_type": "display_data"
    }
   ],
   "source": [
    "x = list(top_books['num_of_ratings'])\n",
    "y = list(top_books['avg_rating'])\n",
    "labels = list(top_books['book_title'])\n",
    "\n",
    "\n",
    "fig, ax = plt.subplots()\n",
    "fig = plt.rcParams['figure.figsize'] = (10, 6)\n",
    "ax.set_facecolor('Moccasin')\n",
    "ax.scatter(x, y, c='PowderBlue')\n",
    "plt.title('Top Ten Books', fontsize=24, color='MediumSeaGreen')\n",
    "plt.xlabel('Number of Ratings', fontsize=16, color='MediumSeaGreen')\n",
    "plt.ylabel('Average Rating', fontsize=16, color='MediumSeaGreen')\n",
    "for i, txt in enumerate(labels):\n",
    "    if i == 9:\n",
    "        ax.annotate(txt, (x[i], y[i]), rotation=45, size=10)\n",
    "    elif i == 8:\n",
    "        txt = ' {t}'.format(t=txt)\n",
    "        ax.annotate(txt, (830, 3.5), size=10)\n",
    "    elif i == 1:\n",
    "        ax.annotate(txt, (830, 4.7), size=10)\n",
    "    else:\n",
    "        ax.annotate(txt, (x[i], y[i]), size=12)\n"
   ]
  },
  {
   "cell_type": "markdown",
   "id": "essential-sigma",
   "metadata": {
    "papermill": {
     "duration": 0.045712,
     "end_time": "2021-07-12T05:41:13.059422",
     "exception": false,
     "start_time": "2021-07-12T05:41:13.013710",
     "status": "completed"
    },
    "tags": []
   },
   "source": [
    "<p style='font-size:16px;font-family:times new roman'>In addition to finding the top-rated books, this dataset can be used to identify some basic demographic information on those who left ratings. Exploring the age ranges for the users can be insightful especially when applied to the most popular books in the dataset.</p>"
   ]
  },
  {
   "cell_type": "markdown",
   "id": "bigger-chicago",
   "metadata": {
    "execution": {
     "iopub.execute_input": "2021-07-12T03:40:11.913915Z",
     "iopub.status.busy": "2021-07-12T03:40:11.913552Z",
     "iopub.status.idle": "2021-07-12T03:40:12.049627Z",
     "shell.execute_reply": "2021-07-12T03:40:12.048567Z",
     "shell.execute_reply.started": "2021-07-12T03:40:11.913881Z"
    },
    "papermill": {
     "duration": 0.045993,
     "end_time": "2021-07-12T05:41:13.151922",
     "exception": false,
     "start_time": "2021-07-12T05:41:13.105929",
     "status": "completed"
    },
    "tags": []
   },
   "source": [
    "<p style='font-size:16px;font-family:times new roman'>Three books were chosen to delve deeper into the demographic of the readers. <i>Harry Potter and the Sorcerer's Stone</i> is the highest rated book with a significant number of ratings. <i> The Da Vinci Code </i> is close behind Harry Potter in terms of popularity, with an average rating of 4.6 and approximately 900 ratings. <i>Wild Animus</i> is the book with the largest number of ratings, 2502, however it is also one of the lowest rated with an average rating of 1.0.</p>"
   ]
  },
  {
   "cell_type": "code",
   "execution_count": 17,
   "id": "informal-pocket",
   "metadata": {
    "execution": {
     "iopub.execute_input": "2021-07-12T05:41:13.252809Z",
     "iopub.status.busy": "2021-07-12T05:41:13.252081Z",
     "iopub.status.idle": "2021-07-12T05:41:13.404997Z",
     "shell.execute_reply": "2021-07-12T05:41:13.405531Z",
     "shell.execute_reply.started": "2021-07-12T05:35:26.064948Z"
    },
    "papermill": {
     "duration": 0.207742,
     "end_time": "2021-07-12T05:41:13.405737",
     "exception": false,
     "start_time": "2021-07-12T05:41:13.197995",
     "status": "completed"
    },
    "tags": []
   },
   "outputs": [],
   "source": [
    "# # Subset dataframe for users that rated harry potter.\n",
    "hp_readers = books_eng[books_eng['book_title'] ==\n",
    "                       \"Harry Potter and the Sorcerer's Stone (Harry Potter (Paperback))\"]\n",
    "\n",
    "# # Age ranges for harry potter readers.\n",
    "hp_age = hp_readers.groupby('age', as_index=False)['user_id'].nunique()\n",
    "\n",
    "# # Create a new dataframe with age ranges.\n",
    "columns = ['age_range', 'Harry Potter', 'The Da Vinci Code', 'Wild Animus']\n",
    "age_ranges = pd.DataFrame(index=[0, 1, 2, 3], columns=columns)\n",
    "\n",
    "eighteen_under, thirty_under, thirty_five_under, thirty_five_plus = 0, 0, 0, 0\n",
    "for index, row in hp_readers.iterrows():\n",
    "    if row['age'] in range(12, 19):\n",
    "        eighteen_under += 1\n",
    "    elif row['age'] in range(19, 30):\n",
    "        thirty_under += 1\n",
    "\n",
    "    elif row['age'] in range(30, 36):\n",
    "        thirty_five_under += 1\n",
    "\n",
    "    elif row['age'] >= 36:\n",
    "        thirty_five_plus += 1\n",
    "\n",
    "age_ranges['age_range'].iloc[0] = '12-18'\n",
    "age_ranges['age_range'].iloc[1] = '19-29'\n",
    "age_ranges['age_range'].iloc[2] = '30-35'\n",
    "age_ranges['age_range'].iloc[3] = '36+'\n",
    "\n",
    "# # Find the percentage of users that fall within each age range.\n",
    "age_ranges['Harry Potter'].iloc[0] = round(\n",
    "    eighteen_under/len(hp_readers)*100, 1)\n",
    "age_ranges['Harry Potter'].iloc[1] = round(thirty_under/len(hp_readers)*100, 1)\n",
    "age_ranges['Harry Potter'].iloc[2] = round(\n",
    "    thirty_five_under/len(hp_readers)*100, 1)\n",
    "age_ranges['Harry Potter'].iloc[3] = round(\n",
    "    thirty_five_plus/len(hp_readers)*100, 1)\n"
   ]
  },
  {
   "cell_type": "code",
   "execution_count": 18,
   "id": "certain-exception",
   "metadata": {
    "_kg_hide-input": true,
    "execution": {
     "iopub.execute_input": "2021-07-12T05:41:13.515806Z",
     "iopub.status.busy": "2021-07-12T05:41:13.514495Z",
     "iopub.status.idle": "2021-07-12T05:41:13.709725Z",
     "shell.execute_reply": "2021-07-12T05:41:13.710195Z",
     "shell.execute_reply.started": "2021-07-12T05:35:26.170047Z"
    },
    "papermill": {
     "duration": 0.2584,
     "end_time": "2021-07-12T05:41:13.710398",
     "exception": false,
     "start_time": "2021-07-12T05:41:13.451998",
     "status": "completed"
    },
    "tags": []
   },
   "outputs": [],
   "source": [
    "# # The Da Vinci Code.\n",
    "da_readers = books_eng[books_eng['book_title'] == \"The Da Vinci Code\"]\n",
    "\n",
    "# # Age ranges for The Da Vinci Code Readers.\n",
    "da_age = da_readers.groupby('age', as_index=False)['user_id'].nunique()\n",
    "\n",
    "# # Same process repeated for The Da Vinci Code.\n",
    "eighteen_under, thirty_under, thirty_five_under, thirty_five_plus = 0, 0, 0, 0\n",
    "for index, row in da_readers.iterrows():\n",
    "    if row['age'] in range(12, 19):\n",
    "        eighteen_under += 1\n",
    "    elif row['age'] in range(19, 30):\n",
    "        thirty_under += 1\n",
    "\n",
    "    elif row['age'] in range(30, 36):\n",
    "        thirty_five_under += 1\n",
    "\n",
    "    elif row['age'] >= 36:\n",
    "        thirty_five_plus += 1\n",
    "\n",
    "age_ranges['The Da Vinci Code'].iloc[0] = round(\n",
    "    eighteen_under/len(da_readers)*100, 1)\n",
    "age_ranges['The Da Vinci Code'].iloc[1] = round(\n",
    "    thirty_under/len(da_readers)*100, 1)\n",
    "age_ranges['The Da Vinci Code'].iloc[2] = round(\n",
    "    thirty_five_under/len(da_readers)*100, 1)\n",
    "age_ranges['The Da Vinci Code'].iloc[3] = round(\n",
    "    thirty_five_plus/len(da_readers)*100, 1)"
   ]
  },
  {
   "cell_type": "code",
   "execution_count": 19,
   "id": "failing-doubt",
   "metadata": {
    "_kg_hide-input": true,
    "execution": {
     "iopub.execute_input": "2021-07-12T05:41:13.805659Z",
     "iopub.status.busy": "2021-07-12T05:41:13.804975Z",
     "iopub.status.idle": "2021-07-12T05:41:14.142671Z",
     "shell.execute_reply": "2021-07-12T05:41:14.143206Z",
     "shell.execute_reply.started": "2021-07-12T05:35:26.299446Z"
    },
    "papermill": {
     "duration": 0.387135,
     "end_time": "2021-07-12T05:41:14.143396",
     "exception": false,
     "start_time": "2021-07-12T05:41:13.756261",
     "status": "completed"
    },
    "tags": []
   },
   "outputs": [],
   "source": [
    "# # Wild Animus\n",
    "wa_readers = books_eng[books_eng['book_title'] == \"Wild Animus\"]\n",
    "\n",
    "# # Age ranges for Wild Animus.\n",
    "wa_age = wa_readers.groupby('age', as_index=False)['user_id'].nunique()\n",
    "\n",
    "\n",
    "eighteen_under, thirty_under, thirty_five_under, thirty_five_plus = 0, 0, 0, 0\n",
    "for index, row in wa_readers.iterrows():\n",
    "    if row['age'] in range(12, 19):\n",
    "        eighteen_under += 1\n",
    "    elif row['age'] in range(19, 30):\n",
    "        thirty_under += 1\n",
    "\n",
    "    elif row['age'] in range(30, 36):\n",
    "        thirty_five_under += 1\n",
    "\n",
    "    elif row['age'] >= 36:\n",
    "        thirty_five_plus += 1\n",
    "\n",
    "age_ranges['Wild Animus'].iloc[0] = round(\n",
    "    eighteen_under/len(wa_readers)*100, 1)\n",
    "age_ranges['Wild Animus'].iloc[1] = round(thirty_under/len(wa_readers)*100, 1)\n",
    "age_ranges['Wild Animus'].iloc[2] = round(\n",
    "    thirty_five_under/len(wa_readers)*100, 1)\n",
    "age_ranges['Wild Animus'].iloc[3] = round(\n",
    "    thirty_five_plus/len(wa_readers)*100, 1)"
   ]
  },
  {
   "cell_type": "markdown",
   "id": "subsequent-possibility",
   "metadata": {
    "papermill": {
     "duration": 0.045653,
     "end_time": "2021-07-12T05:41:14.235382",
     "exception": false,
     "start_time": "2021-07-12T05:41:14.189729",
     "status": "completed"
    },
    "tags": []
   },
   "source": [
    "<p style='font-size:16px;font-family:times new roman'> The data reveals that for Harry Potter, 41% of readers that left a rating, fall within the age range of 30-35. <i>The Da Vinci Code</i> has a similar split in age range as Harry Potter, with nearly 80% of its readers being over the age of 30. Interestingly, the lowest rated book, <i>Wild Animus</i> has an even distribution in the ranges over 18. It seems amongst nearly all ages; <i>Wild Animus</i> is disliked. It almost makes me want to read to it and find out why.</p>"
   ]
  },
  {
   "cell_type": "code",
   "execution_count": 20,
   "id": "demanding-workstation",
   "metadata": {
    "_kg_hide-input": true,
    "execution": {
     "iopub.execute_input": "2021-07-12T05:41:14.338623Z",
     "iopub.status.busy": "2021-07-12T05:41:14.337688Z",
     "iopub.status.idle": "2021-07-12T05:41:14.341376Z",
     "shell.execute_reply": "2021-07-12T05:41:14.341822Z",
     "shell.execute_reply.started": "2021-07-12T05:35:26.556188Z"
    },
    "papermill": {
     "duration": 0.060165,
     "end_time": "2021-07-12T05:41:14.342002",
     "exception": false,
     "start_time": "2021-07-12T05:41:14.281837",
     "status": "completed"
    },
    "tags": []
   },
   "outputs": [
    {
     "data": {
      "text/html": [
       "<div>\n",
       "<style scoped>\n",
       "    .dataframe tbody tr th:only-of-type {\n",
       "        vertical-align: middle;\n",
       "    }\n",
       "\n",
       "    .dataframe tbody tr th {\n",
       "        vertical-align: top;\n",
       "    }\n",
       "\n",
       "    .dataframe thead th {\n",
       "        text-align: right;\n",
       "    }\n",
       "</style>\n",
       "<table border=\"1\" class=\"dataframe\">\n",
       "  <thead>\n",
       "    <tr style=\"text-align: right;\">\n",
       "      <th></th>\n",
       "      <th>age_range</th>\n",
       "      <th>Harry Potter</th>\n",
       "      <th>The Da Vinci Code</th>\n",
       "      <th>Wild Animus</th>\n",
       "    </tr>\n",
       "  </thead>\n",
       "  <tbody>\n",
       "    <tr>\n",
       "      <th>0</th>\n",
       "      <td>12-18</td>\n",
       "      <td>6.5</td>\n",
       "      <td>1.6</td>\n",
       "      <td>6.2</td>\n",
       "    </tr>\n",
       "    <tr>\n",
       "      <th>1</th>\n",
       "      <td>19-29</td>\n",
       "      <td>26.3</td>\n",
       "      <td>21.7</td>\n",
       "      <td>30.3</td>\n",
       "    </tr>\n",
       "    <tr>\n",
       "      <th>2</th>\n",
       "      <td>30-35</td>\n",
       "      <td>41.5</td>\n",
       "      <td>39.1</td>\n",
       "      <td>30.2</td>\n",
       "    </tr>\n",
       "    <tr>\n",
       "      <th>3</th>\n",
       "      <td>36+</td>\n",
       "      <td>25.0</td>\n",
       "      <td>37.7</td>\n",
       "      <td>33.2</td>\n",
       "    </tr>\n",
       "  </tbody>\n",
       "</table>\n",
       "</div>"
      ],
      "text/plain": [
       "  age_range Harry Potter The Da Vinci Code Wild Animus\n",
       "0     12-18          6.5               1.6         6.2\n",
       "1     19-29         26.3              21.7        30.3\n",
       "2     30-35         41.5              39.1        30.2\n",
       "3       36+         25.0              37.7        33.2"
      ]
     },
     "execution_count": 20,
     "metadata": {},
     "output_type": "execute_result"
    }
   ],
   "source": [
    "age_ranges"
   ]
  },
  {
   "cell_type": "code",
   "execution_count": 21,
   "id": "civilian-criticism",
   "metadata": {
    "execution": {
     "iopub.execute_input": "2021-07-12T05:41:14.438089Z",
     "iopub.status.busy": "2021-07-12T05:41:14.437104Z",
     "iopub.status.idle": "2021-07-12T05:41:14.636453Z",
     "shell.execute_reply": "2021-07-12T05:41:14.636977Z",
     "shell.execute_reply.started": "2021-07-12T05:35:26.568224Z"
    },
    "papermill": {
     "duration": 0.24917,
     "end_time": "2021-07-12T05:41:14.637173",
     "exception": false,
     "start_time": "2021-07-12T05:41:14.388003",
     "status": "completed"
    },
    "tags": []
   },
   "outputs": [
    {
     "data": {
      "image/png": "[encoded data removed]",
      "text/plain": [
       "<Figure size 720x432 with 1 Axes>"
      ]
     },
     "metadata": {
      "needs_background": "light"
     },
     "output_type": "display_data"
    }
   ],
   "source": [
    "HarryPotter = list(age_ranges['Harry Potter'])\n",
    "TheDaVinciCode = list(age_ranges['The Da Vinci Code'])\n",
    "WildAnimus = list(age_ranges['Wild Animus'])\n",
    "x = list(age_ranges['age_range'])\n",
    "_x = np.arange(len(x))\n",
    "\n",
    "plt.bar(_x - 0.2, HarryPotter, width=0.2, color='Plum',\n",
    "        edgecolor='Gray', label='Harry Potter')\n",
    "plt.bar(_x, TheDaVinciCode, width=0.2, color='MediumAquaMarine',\n",
    "        edgecolor='Gray', label='The DaVinci Code')\n",
    "plt.bar(_x + 0.2, WildAnimus, width=0.2, color='LightSalmon',\n",
    "        edgecolor='Gray', label='Wild Animus')\n",
    "plt.xticks(_x, x)\n",
    "plt.title('Age Ranges for Top Books', fontsize=24, color='MediumSeaGreen')\n",
    "plt.ylabel('Percent of Users', fontsize=16, color='MediumSeaGreen')\n",
    "plt.legend()\n",
    "plt.show()"
   ]
  },
  {
   "cell_type": "markdown",
   "id": "educational-hammer",
   "metadata": {
    "papermill": {
     "duration": 0.048879,
     "end_time": "2021-07-12T05:41:14.734102",
     "exception": false,
     "start_time": "2021-07-12T05:41:14.685223",
     "status": "completed"
    },
    "tags": []
   },
   "source": [
    "<h2 style='font-family:times new roman'>Recommender System</h2>"
   ]
  },
  {
   "cell_type": "markdown",
   "id": "central-sandwich",
   "metadata": {
    "papermill": {
     "duration": 0.04907,
     "end_time": "2021-07-12T05:41:14.830799",
     "exception": false,
     "start_time": "2021-07-12T05:41:14.781729",
     "status": "completed"
    },
    "tags": []
   },
   "source": [
    "<p style='font-size:16px;font-family:times new roman'>Content based recommenders work by suggesting items similar to a particular item using that item’s metadata. For this dataset, the book’s summary column will be used to create a simple recommendation system. This method follows <a href=\"https://www.datacamp.com/community/tutorials/recommender-systems-python\">Aditya Sharma’s DataCamp tutorial</a> [2].</p>"
   ]
  },
  {
   "cell_type": "markdown",
   "id": "lined-sequence",
   "metadata": {
    "papermill": {
     "duration": 0.047916,
     "end_time": "2021-07-12T05:41:14.926614",
     "exception": false,
     "start_time": "2021-07-12T05:41:14.878698",
     "status": "completed"
    },
    "tags": []
   },
   "source": [
    "<p style='font-size:16px;font-family:times new roman'>First, step is to create a new dataframe with the book titles and the summaries. NOTE: The dataset was truncated to 200k results because using sklearn's cosine similarity function required to much memory with the full dataset.</p>"
   ]
  },
  {
   "cell_type": "code",
   "execution_count": 22,
   "id": "royal-pocket",
   "metadata": {
    "execution": {
     "iopub.execute_input": "2021-07-12T05:41:15.026382Z",
     "iopub.status.busy": "2021-07-12T05:41:15.025321Z",
     "iopub.status.idle": "2021-07-12T05:41:15.162116Z",
     "shell.execute_reply": "2021-07-12T05:41:15.162635Z",
     "shell.execute_reply.started": "2021-07-12T05:35:26.756857Z"
    },
    "papermill": {
     "duration": 0.188125,
     "end_time": "2021-07-12T05:41:15.162815",
     "exception": false,
     "start_time": "2021-07-12T05:41:14.974690",
     "status": "completed"
    },
    "tags": []
   },
   "outputs": [
    {
     "name": "stdout",
     "output_type": "stream",
     "text": [
      "<class 'pandas.core.frame.DataFrame'>\n",
      "Int64Index: 7525 entries, 0 to 7524\n",
      "Data columns (total 3 columns):\n",
      " #   Column      Non-Null Count  Dtype  \n",
      "---  ------      --------------  -----  \n",
      " 0   book_title  7525 non-null   object \n",
      " 1   summary     7525 non-null   object \n",
      " 2   rating      7525 non-null   float64\n",
      "dtypes: float64(1), object(2)\n",
      "memory usage: 235.2+ KB\n"
     ]
    }
   ],
   "source": [
    "\n",
    "book_summary = books_eng[1:200000].groupby(['book_title', 'summary'], as_index=False)[\n",
    "    'rating'].mean()\n",
    "\n",
    "book_summary['book_title'].drop_duplicates(inplace=True)\n",
    "book_summary.info()"
   ]
  },
  {
   "cell_type": "markdown",
   "id": "shared-trance",
   "metadata": {
    "papermill": {
     "duration": 0.047967,
     "end_time": "2021-07-12T05:41:15.260910",
     "exception": false,
     "start_time": "2021-07-12T05:41:15.212943",
     "status": "completed"
    },
    "tags": []
   },
   "source": [
    "<p style='font-size:16px;font-family:times new roman'>This removes words that do not provide any useful information about the topic like 'the'.</p>"
   ]
  },
  {
   "cell_type": "code",
   "execution_count": 23,
   "id": "parental-cover",
   "metadata": {
    "execution": {
     "iopub.execute_input": "2021-07-12T05:41:15.362019Z",
     "iopub.status.busy": "2021-07-12T05:41:15.361282Z",
     "iopub.status.idle": "2021-07-12T05:41:15.363039Z",
     "shell.execute_reply": "2021-07-12T05:41:15.363528Z",
     "shell.execute_reply.started": "2021-07-12T05:35:26.879690Z"
    },
    "papermill": {
     "duration": 0.054822,
     "end_time": "2021-07-12T05:41:15.363697",
     "exception": false,
     "start_time": "2021-07-12T05:41:15.308875",
     "status": "completed"
    },
    "tags": []
   },
   "outputs": [],
   "source": [
    "tfidf = TfidfVectorizer(stop_words='english')"
   ]
  },
  {
   "cell_type": "markdown",
   "id": "pharmaceutical-standing",
   "metadata": {
    "papermill": {
     "duration": 0.047729,
     "end_time": "2021-07-12T05:41:15.459836",
     "exception": false,
     "start_time": "2021-07-12T05:41:15.412107",
     "status": "completed"
    },
    "tags": []
   },
   "source": [
    "<p style='font-size:16px;font-family:times new roman'>Replacing null values with an empty string.</p>"
   ]
  },
  {
   "cell_type": "code",
   "execution_count": 24,
   "id": "located-option",
   "metadata": {
    "execution": {
     "iopub.execute_input": "2021-07-12T05:41:15.559144Z",
     "iopub.status.busy": "2021-07-12T05:41:15.558501Z",
     "iopub.status.idle": "2021-07-12T05:41:15.564285Z",
     "shell.execute_reply": "2021-07-12T05:41:15.564804Z",
     "shell.execute_reply.started": "2021-07-12T05:35:26.887829Z"
    },
    "papermill": {
     "duration": 0.057084,
     "end_time": "2021-07-12T05:41:15.564978",
     "exception": false,
     "start_time": "2021-07-12T05:41:15.507894",
     "status": "completed"
    },
    "tags": []
   },
   "outputs": [],
   "source": [
    "book_summary['summary'] = book_summary['summary'].fillna('')"
   ]
  },
  {
   "cell_type": "markdown",
   "id": "nominated-portsmouth",
   "metadata": {
    "papermill": {
     "duration": 0.04857,
     "end_time": "2021-07-12T05:41:15.661393",
     "exception": false,
     "start_time": "2021-07-12T05:41:15.612823",
     "status": "completed"
    },
    "tags": []
   },
   "source": [
    "<p style='font-size:16px;font-family:times new roman'>Using scikit-learn TfIdfVectorizer class a Term Frequency-Inverse Document Frequency matrix will be created. Word vectorization is natural language processing tool that allows for words to be assigned to corresponding vector of real numbers. This can then be used find similarities in texts [3].</p>"
   ]
  },
  {
   "cell_type": "code",
   "execution_count": 25,
   "id": "golden-location",
   "metadata": {
    "execution": {
     "iopub.execute_input": "2021-07-12T05:41:15.760860Z",
     "iopub.status.busy": "2021-07-12T05:41:15.760093Z",
     "iopub.status.idle": "2021-07-12T05:41:16.926289Z",
     "shell.execute_reply": "2021-07-12T05:41:16.926823Z",
     "shell.execute_reply.started": "2021-07-12T05:35:26.906246Z"
    },
    "papermill": {
     "duration": 1.217634,
     "end_time": "2021-07-12T05:41:16.927019",
     "exception": false,
     "start_time": "2021-07-12T05:41:15.709385",
     "status": "completed"
    },
    "tags": []
   },
   "outputs": [],
   "source": [
    "# # Construct the required TF-IDF matrix by fitting and transforming the data\n",
    "tfidf_matrix = tfidf.fit_transform(book_summary['summary'])\n",
    "\n",
    "# # Compute the cosine similarity matrix.\n",
    "cosine_sim = linear_kernel(tfidf_matrix, tfidf_matrix)\n",
    "\n",
    "# Construct a reverse map of indices and book titles.\n",
    "indices = pd.Series(book_summary.index,\n",
    "                    index=book_summary['book_title']).drop_duplicates()\n"
   ]
  },
  {
   "cell_type": "code",
   "execution_count": 26,
   "id": "classified-protection",
   "metadata": {
    "execution": {
     "iopub.execute_input": "2021-07-12T05:41:17.027109Z",
     "iopub.status.busy": "2021-07-12T05:41:17.026479Z",
     "iopub.status.idle": "2021-07-12T05:41:17.847879Z",
     "shell.execute_reply": "2021-07-12T05:41:17.848382Z",
     "shell.execute_reply.started": "2021-07-12T05:35:27.944273Z"
    },
    "papermill": {
     "duration": 0.873706,
     "end_time": "2021-07-12T05:41:17.848646",
     "exception": false,
     "start_time": "2021-07-12T05:41:16.974940",
     "status": "completed"
    },
    "tags": []
   },
   "outputs": [],
   "source": [
    "# Compute the cosine similarity matrix\n",
    "cosine_sim = linear_kernel(tfidf_matrix, tfidf_matrix)\n",
    "\n",
    "indices = pd.Series(book_summary.index,\n",
    "                    index=book_summary['book_title']).drop_duplicates()\n",
    "\n"
   ]
  },
  {
   "cell_type": "markdown",
   "id": "existing-inventory",
   "metadata": {
    "papermill": {
     "duration": 0.047681,
     "end_time": "2021-07-12T05:41:17.944983",
     "exception": false,
     "start_time": "2021-07-12T05:41:17.897302",
     "status": "completed"
    },
    "tags": []
   },
   "source": [
    "<p style='font-size:16px;font-family:times new roman'>The recommendation function takes a book’s title (that’s within the dataset) as a parameter. It will get the index of the book and get a list of the cosine similarity scores for that specific book and the rest of the books in the dataset. The list will be sorted based on the similarity scores, and the top five most similar books will be returned.</p>"
   ]
  },
  {
   "cell_type": "code",
   "execution_count": 27,
   "id": "democratic-provision",
   "metadata": {
    "execution": {
     "iopub.execute_input": "2021-07-12T05:41:18.044390Z",
     "iopub.status.busy": "2021-07-12T05:41:18.043748Z",
     "iopub.status.idle": "2021-07-12T05:41:18.050187Z",
     "shell.execute_reply": "2021-07-12T05:41:18.049551Z",
     "shell.execute_reply.started": "2021-07-12T05:35:28.784893Z"
    },
    "papermill": {
     "duration": 0.057263,
     "end_time": "2021-07-12T05:41:18.050325",
     "exception": false,
     "start_time": "2021-07-12T05:41:17.993062",
     "status": "completed"
    },
    "tags": []
   },
   "outputs": [],
   "source": [
    "\n",
    "def get_recommendations(book_title, cosine_sim=cosine_sim):\n",
    "    # Get the index of the movie that matches the title\n",
    "    idx = indices[book_title]\n",
    "\n",
    "    # Similarity scores\n",
    "    similarity_scores = list(enumerate(cosine_sim[idx]))\n",
    "\n",
    "    # Sort the books based on the similarity scores\n",
    "    similarity_scores = sorted(similarity_scores, key=lambda x: x[1], reverse=True)\n",
    "\n",
    "    # Get the scores of the six most similar books\n",
    "    similarity_scores =  similarity_scores[1:6]\n",
    "\n",
    "    # Get the book indices\n",
    "    book_indices = [i[0] for i in similarity_scores]\n",
    "\n",
    "    # Return the top 10 most similar books\n",
    "    return book_summary['book_title'].iloc[book_indices]"
   ]
  },
  {
   "cell_type": "markdown",
   "id": "amateur-doubt",
   "metadata": {
    "papermill": {
     "duration": 0.048925,
     "end_time": "2021-07-12T05:41:18.148345",
     "exception": false,
     "start_time": "2021-07-12T05:41:18.099420",
     "status": "completed"
    },
    "tags": []
   },
   "source": [
    "<p style='font-size:16px;font-family:times new roman'>When <i>Harry Potter and the Sorcerer's Stone'</i> is parsed throught the get_recommendations function, a list of other Harry Potter books are returned. It makes sense that readers of the first series would want to read the other books in the series. This recommendation system could be improved by using the book's genre, author, setting, etc to find more similarities between books.</p>"
   ]
  },
  {
   "cell_type": "code",
   "execution_count": 28,
   "id": "textile-vacation",
   "metadata": {
    "execution": {
     "iopub.execute_input": "2021-07-12T05:41:18.260841Z",
     "iopub.status.busy": "2021-07-12T05:41:18.253304Z",
     "iopub.status.idle": "2021-07-12T05:41:18.264410Z",
     "shell.execute_reply": "2021-07-12T05:41:18.263924Z",
     "shell.execute_reply.started": "2021-07-12T05:35:28.810207Z"
    },
    "papermill": {
     "duration": 0.068256,
     "end_time": "2021-07-12T05:41:18.264588",
     "exception": false,
     "start_time": "2021-07-12T05:41:18.196332",
     "status": "completed"
    },
    "tags": []
   },
   "outputs": [
    {
     "data": {
      "text/plain": [
       "2306    Harry Potter and the Sorcerer's Stone (Harry P...\n",
       "2304       Harry Potter and the Sorcerer's Stone (Book 1)\n",
       "2300         Harry Potter and the Goblet of Fire (Book 4)\n",
       "2301    Harry Potter and the Order of the Phoenix (Boo...\n",
       "2303    Harry Potter and the Prisoner of Azkaban (Book 3)\n",
       "Name: book_title, dtype: object"
      ]
     },
     "execution_count": 28,
     "metadata": {},
     "output_type": "execute_result"
    }
   ],
   "source": [
    "get_recommendations(\"Harry Potter and the Sorcerer's Stone (Harry Potter (Paperback))\")"
   ]
  },
  {
   "cell_type": "markdown",
   "id": "active-agenda",
   "metadata": {
    "papermill": {
     "duration": 0.047732,
     "end_time": "2021-07-12T05:41:18.360106",
     "exception": false,
     "start_time": "2021-07-12T05:41:18.312374",
     "status": "completed"
    },
    "tags": []
   },
   "source": [
    "<p style='font-size:16px;font-family:times new roman'><i>The Da Vinci Code</i> probably yield the most obvious recommendations. Since 'Da Vinci' is a unique phrase that would only be included in a book's summary if the book was about the artist, it is expected that most of the books recommended would be just that.</p>"
   ]
  },
  {
   "cell_type": "code",
   "execution_count": 29,
   "id": "ongoing-invasion",
   "metadata": {
    "execution": {
     "iopub.execute_input": "2021-07-12T05:41:18.466066Z",
     "iopub.status.busy": "2021-07-12T05:41:18.465180Z",
     "iopub.status.idle": "2021-07-12T05:41:18.474072Z",
     "shell.execute_reply": "2021-07-12T05:41:18.474553Z",
     "shell.execute_reply.started": "2021-07-12T05:35:28.841266Z"
    },
    "papermill": {
     "duration": 0.066717,
     "end_time": "2021-07-12T05:41:18.474733",
     "exception": false,
     "start_time": "2021-07-12T05:41:18.408016",
     "status": "completed"
    },
    "tags": []
   },
   "outputs": [
    {
     "data": {
      "text/plain": [
       "5427         The Da Vinci Code (Random House Large Print)\n",
       "2008    Fortune Is a River : Leonardo Da Vinci and Nic...\n",
       "604                                               Baggage\n",
       "5809    The How to Think Like Leonardo da Vinci Workbo...\n",
       "2215    Great Book Of Whodunit Puzzles: Mini-Mysteries...\n",
       "Name: book_title, dtype: object"
      ]
     },
     "execution_count": 29,
     "metadata": {},
     "output_type": "execute_result"
    }
   ],
   "source": [
    "get_recommendations('The Da Vinci Code')"
   ]
  },
  {
   "cell_type": "markdown",
   "id": "smaller-power",
   "metadata": {
    "papermill": {
     "duration": 0.048068,
     "end_time": "2021-07-12T05:41:18.571424",
     "exception": false,
     "start_time": "2021-07-12T05:41:18.523356",
     "status": "completed"
    },
    "tags": []
   },
   "source": [
    "<p style='font-size:16px;font-family:times new roman'>It seems that <i>Wild Animus</i> may have yield the best results. Wild Animus is categorized as a philosophical/psychological novel that involves a man going through a journey. The list of books recommended seem to be spiritual and philosophical books as well.</p>"
   ]
  },
  {
   "cell_type": "code",
   "execution_count": 30,
   "id": "relative-significance",
   "metadata": {
    "execution": {
     "iopub.execute_input": "2021-07-12T05:41:18.681057Z",
     "iopub.status.busy": "2021-07-12T05:41:18.677135Z",
     "iopub.status.idle": "2021-07-12T05:41:18.687720Z",
     "shell.execute_reply": "2021-07-12T05:41:18.687057Z",
     "shell.execute_reply.started": "2021-07-12T05:35:28.856505Z"
    },
    "papermill": {
     "duration": 0.067716,
     "end_time": "2021-07-12T05:41:18.687866",
     "exception": false,
     "start_time": "2021-07-12T05:41:18.620150",
     "status": "completed"
    },
    "tags": []
   },
   "outputs": [
    {
     "data": {
      "text/plain": [
       "4419                                 Second Ring of Power\n",
       "2169         Godel, Escher, Bach: An Eternal Golden Braid\n",
       "859     Breaking Down the Wall of Silence: The Liberat...\n",
       "5497                                    The Dog I.Q. Test\n",
       "7367    Wild Man's Journey: Reflections on Male Spirit...\n",
       "Name: book_title, dtype: object"
      ]
     },
     "execution_count": 30,
     "metadata": {},
     "output_type": "execute_result"
    }
   ],
   "source": [
    "get_recommendations('Wild Animus')"
   ]
  },
  {
   "cell_type": "markdown",
   "id": "moderate-underground",
   "metadata": {
    "papermill": {
     "duration": 0.048283,
     "end_time": "2021-07-12T05:41:18.784837",
     "exception": false,
     "start_time": "2021-07-12T05:41:18.736554",
     "status": "completed"
    },
    "tags": []
   },
   "source": [
    "<h2 style='font-family:times new roman'>Conclusion</h2>"
   ]
  },
  {
   "cell_type": "markdown",
   "id": "loved-university",
   "metadata": {
    "papermill": {
     "duration": 0.048125,
     "end_time": "2021-07-12T05:41:18.882965",
     "exception": false,
     "start_time": "2021-07-12T05:41:18.834840",
     "status": "completed"
    },
    "tags": []
   },
   "source": [
    "<p style='font-size:16px;font-family:times new roman'>The ability for websites and streaming platforms to keep recommend new content to their customers is very important. The rate at which content is produced means that choosing what tv show to watch or what book to read can be overwhelming. A streaming service can have millions of choices for viewers to enjoy, but ultimately that just makes selecting content the more difficult. However, if streaming services can focus on curating personalized content for their customers, it could be the difference between someone watching an entire series or someone getting frustrated at not finding something to watch and moving on to another platform.</p>"
   ]
  },
  {
   "cell_type": "markdown",
   "id": "respective-mozambique",
   "metadata": {
    "papermill": {
     "duration": 0.048482,
     "end_time": "2021-07-12T05:41:18.980452",
     "exception": false,
     "start_time": "2021-07-12T05:41:18.931970",
     "status": "completed"
    },
    "tags": []
   },
   "source": [
    "<h2 style='font-family:times new roman'>References</h2>"
   ]
  },
  {
   "cell_type": "markdown",
   "id": "involved-salvation",
   "metadata": {
    "papermill": {
     "duration": 0.048322,
     "end_time": "2021-07-12T05:41:19.077389",
     "exception": false,
     "start_time": "2021-07-12T05:41:19.029067",
     "status": "completed"
    },
    "tags": []
   },
   "source": [
    "1. [Ruchi Bhatia's Book: User Review Ratings Dataset(11 Aug 2020)](https://www.kaggle.com/ruchi798/bookcrossing-dataset/metadata)\n",
    "2. [Aditya Sharma's Book Recommender Tutorial on Datacamp(29 May 2020)](https://www.datacamp.com/community/tutorials/recommender-systems-python)\n",
    "3. [Prahbu's Understanding NLP Word Embeddings on towardsdatascience(11 Nov 2019)](https://towardsdatascience.com/understanding-nlp-word-embeddings-text-vectorization-1a23744f7223)"
   ]
  }
 ],
 "metadata": {
  "kernelspec": {
   "display_name": "Python 3",
   "language": "python",
   "name": "python3"
  },
  "language_info": {
   "codemirror_mode": {
    "name": "ipython",
    "version": 3
   },
   "file_extension": ".py",
   "mimetype": "text/x-python",
   "name": "python",
   "nbconvert_exporter": "python",
   "pygments_lexer": "ipython3",
   "version": "3.7.10"
  },
  "papermill": {
   "default_parameters": {},
   "duration": 37.958909,
   "end_time": "2021-07-12T05:41:20.819695",
   "environment_variables": {},
   "exception": null,
   "input_path": "__notebook__.ipynb",
   "output_path": "__notebook__.ipynb",
   "parameters": {},
   "start_time": "2021-07-12T05:40:42.860786",
   "version": "2.3.3"
  }
 },
 "nbformat": 4,
 "nbformat_minor": 5
}
